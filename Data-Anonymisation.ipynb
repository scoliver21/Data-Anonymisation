{
 "cells": [
  {
   "cell_type": "markdown",
   "id": "0ee921fe-1c87-41a7-a797-a2c2fb627de7",
   "metadata": {},
   "source": [
    "# Simulated Data Anonymisation Task from the Commonwealth Bank Virtual Experience on Forage"
   ]
  },
  {
   "cell_type": "markdown",
   "id": "de295419-ece0-406c-9cd2-135e9a76de8d",
   "metadata": {},
   "source": [
    "## Load the dataset"
   ]
  },
  {
   "cell_type": "code",
   "execution_count": 42,
   "id": "8597b571-e1ad-43f1-9d2a-a5d285859a7d",
   "metadata": {},
   "outputs": [],
   "source": [
    "import pandas as pd  # Import pandas for data manipulation and analysis\n",
    "import numpy as np   # Import NumPy for numerical operations and mathematical functions"
   ]
  },
  {
   "cell_type": "code",
   "execution_count": 43,
   "id": "b1599b18-666a-42ba-89d3-4c6407c4437e",
   "metadata": {},
   "outputs": [
    {
     "data": {
      "text/html": [
       "<div>\n",
       "<style scoped>\n",
       "    .dataframe tbody tr th:only-of-type {\n",
       "        vertical-align: middle;\n",
       "    }\n",
       "\n",
       "    .dataframe tbody tr th {\n",
       "        vertical-align: top;\n",
       "    }\n",
       "\n",
       "    .dataframe thead th {\n",
       "        text-align: right;\n",
       "    }\n",
       "</style>\n",
       "<table border=\"1\" class=\"dataframe\">\n",
       "  <thead>\n",
       "    <tr style=\"text-align: right;\">\n",
       "      <th></th>\n",
       "      <th>Unnamed: 0</th>\n",
       "      <th>customer_id</th>\n",
       "      <th>date_registered</th>\n",
       "      <th>username</th>\n",
       "      <th>name</th>\n",
       "      <th>gender</th>\n",
       "      <th>address</th>\n",
       "      <th>email</th>\n",
       "      <th>birthdate</th>\n",
       "      <th>current_location</th>\n",
       "      <th>residence</th>\n",
       "      <th>employer</th>\n",
       "      <th>job</th>\n",
       "      <th>age</th>\n",
       "      <th>salary</th>\n",
       "      <th>credit_card_provider</th>\n",
       "      <th>credit_card_number</th>\n",
       "      <th>credit_card_security_code</th>\n",
       "      <th>credit_card_expire</th>\n",
       "    </tr>\n",
       "  </thead>\n",
       "  <tbody>\n",
       "    <tr>\n",
       "      <th>0</th>\n",
       "      <td>0</td>\n",
       "      <td>24c9d2d0-d0d3-4a90-9a3a-e00e4aac99bd</td>\n",
       "      <td>2021-09-29</td>\n",
       "      <td>robertsbryan</td>\n",
       "      <td>Jonathan Snyder</td>\n",
       "      <td>M</td>\n",
       "      <td>24675 Susan Valley\\nNorth Dianabury, MO 02475</td>\n",
       "      <td>marcus58@hotmail.com</td>\n",
       "      <td>1978-03-11</td>\n",
       "      <td>['78.937112', '71.260464']</td>\n",
       "      <td>195 Brandi Junctions\\nNew Julieberg, NE 63410</td>\n",
       "      <td>Byrd, Welch and Holt</td>\n",
       "      <td>Chief Technology Officer</td>\n",
       "      <td>49</td>\n",
       "      <td>53979</td>\n",
       "      <td>VISA 19 digit</td>\n",
       "      <td>38985874269846</td>\n",
       "      <td>994</td>\n",
       "      <td>2023-10-27 00:00:00</td>\n",
       "    </tr>\n",
       "    <tr>\n",
       "      <th>1</th>\n",
       "      <td>1</td>\n",
       "      <td>7b2bc220-0296-4914-ba46-d6cc6a55a62a</td>\n",
       "      <td>2019-08-17</td>\n",
       "      <td>egarcia</td>\n",
       "      <td>Susan Dominguez</td>\n",
       "      <td>F</td>\n",
       "      <td>4212 Cheryl Inlet\\nPort Davidmouth, NC 54884</td>\n",
       "      <td>alexanderkathy@hotmail.com</td>\n",
       "      <td>1970-11-29</td>\n",
       "      <td>['-24.1692185', '100.746122']</td>\n",
       "      <td>58272 Brown Isle Apt. 698\\nPort Michael, HI 04693</td>\n",
       "      <td>Hurst PLC</td>\n",
       "      <td>Data scientist</td>\n",
       "      <td>43</td>\n",
       "      <td>81510</td>\n",
       "      <td>Discover</td>\n",
       "      <td>6525743622515979</td>\n",
       "      <td>163</td>\n",
       "      <td>2023-07-30 00:00:00</td>\n",
       "    </tr>\n",
       "    <tr>\n",
       "      <th>2</th>\n",
       "      <td>2</td>\n",
       "      <td>06febdf9-07fb-4a1b-87d7-a5f97d9a5faf</td>\n",
       "      <td>2019-11-01</td>\n",
       "      <td>turnermegan</td>\n",
       "      <td>Corey Hebert</td>\n",
       "      <td>M</td>\n",
       "      <td>07388 Coleman Prairie\\nLake Amy, IA 78695</td>\n",
       "      <td>vwood@gmail.com</td>\n",
       "      <td>2009-04-23</td>\n",
       "      <td>['8.019908', '-19.603269']</td>\n",
       "      <td>36848 Jones Lane Suite 282\\nMarquezbury, ID 26822</td>\n",
       "      <td>Mora, Caldwell and Guerrero</td>\n",
       "      <td>Chief Operating Officer</td>\n",
       "      <td>47</td>\n",
       "      <td>205345</td>\n",
       "      <td>VISA 16 digit</td>\n",
       "      <td>4010729915028682247</td>\n",
       "      <td>634</td>\n",
       "      <td>2023-04-26 00:00:00</td>\n",
       "    </tr>\n",
       "  </tbody>\n",
       "</table>\n",
       "</div>"
      ],
      "text/plain": [
       "   Unnamed: 0                           customer_id date_registered  \\\n",
       "0           0  24c9d2d0-d0d3-4a90-9a3a-e00e4aac99bd      2021-09-29   \n",
       "1           1  7b2bc220-0296-4914-ba46-d6cc6a55a62a      2019-08-17   \n",
       "2           2  06febdf9-07fb-4a1b-87d7-a5f97d9a5faf      2019-11-01   \n",
       "\n",
       "       username             name gender  \\\n",
       "0  robertsbryan  Jonathan Snyder      M   \n",
       "1       egarcia  Susan Dominguez      F   \n",
       "2   turnermegan     Corey Hebert      M   \n",
       "\n",
       "                                         address                       email  \\\n",
       "0  24675 Susan Valley\\nNorth Dianabury, MO 02475        marcus58@hotmail.com   \n",
       "1   4212 Cheryl Inlet\\nPort Davidmouth, NC 54884  alexanderkathy@hotmail.com   \n",
       "2      07388 Coleman Prairie\\nLake Amy, IA 78695             vwood@gmail.com   \n",
       "\n",
       "   birthdate               current_location  \\\n",
       "0 1978-03-11     ['78.937112', '71.260464']   \n",
       "1 1970-11-29  ['-24.1692185', '100.746122']   \n",
       "2 2009-04-23     ['8.019908', '-19.603269']   \n",
       "\n",
       "                                           residence  \\\n",
       "0      195 Brandi Junctions\\nNew Julieberg, NE 63410   \n",
       "1  58272 Brown Isle Apt. 698\\nPort Michael, HI 04693   \n",
       "2  36848 Jones Lane Suite 282\\nMarquezbury, ID 26822   \n",
       "\n",
       "                      employer                       job  age  salary  \\\n",
       "0         Byrd, Welch and Holt  Chief Technology Officer   49   53979   \n",
       "1                    Hurst PLC            Data scientist   43   81510   \n",
       "2  Mora, Caldwell and Guerrero   Chief Operating Officer   47  205345   \n",
       "\n",
       "  credit_card_provider   credit_card_number  credit_card_security_code  \\\n",
       "0        VISA 19 digit       38985874269846                        994   \n",
       "1             Discover     6525743622515979                        163   \n",
       "2        VISA 16 digit  4010729915028682247                        634   \n",
       "\n",
       "    credit_card_expire  \n",
       "0  2023-10-27 00:00:00  \n",
       "1  2023-07-30 00:00:00  \n",
       "2  2023-04-26 00:00:00  "
      ]
     },
     "execution_count": 43,
     "metadata": {},
     "output_type": "execute_result"
    }
   ],
   "source": [
    "# Load the dataset\n",
    "df = pd.read_excel('mobile_customers.xlsx')\n",
    "df.head(3)"
   ]
  },
  {
   "cell_type": "markdown",
   "id": "05da000b-714a-4fad-aa0c-7f1680c99940",
   "metadata": {},
   "source": [
    "## Step 1 : Remove unwanted columns"
   ]
  },
  {
   "cell_type": "code",
   "execution_count": 44,
   "id": "7695cc25-fd9f-4785-8754-f5eafffc5b8e",
   "metadata": {
    "scrolled": true
   },
   "outputs": [
    {
     "data": {
      "text/html": [
       "<div>\n",
       "<style scoped>\n",
       "    .dataframe tbody tr th:only-of-type {\n",
       "        vertical-align: middle;\n",
       "    }\n",
       "\n",
       "    .dataframe tbody tr th {\n",
       "        vertical-align: top;\n",
       "    }\n",
       "\n",
       "    .dataframe thead th {\n",
       "        text-align: right;\n",
       "    }\n",
       "</style>\n",
       "<table border=\"1\" class=\"dataframe\">\n",
       "  <thead>\n",
       "    <tr style=\"text-align: right;\">\n",
       "      <th></th>\n",
       "      <th>date_registered</th>\n",
       "      <th>username</th>\n",
       "      <th>name</th>\n",
       "      <th>gender</th>\n",
       "      <th>address</th>\n",
       "      <th>email</th>\n",
       "      <th>birthdate</th>\n",
       "      <th>residence</th>\n",
       "      <th>employer</th>\n",
       "      <th>job</th>\n",
       "      <th>age</th>\n",
       "      <th>salary</th>\n",
       "      <th>credit_card_provider</th>\n",
       "      <th>credit_card_number</th>\n",
       "      <th>credit_card_security_code</th>\n",
       "      <th>credit_card_expire</th>\n",
       "    </tr>\n",
       "  </thead>\n",
       "  <tbody>\n",
       "    <tr>\n",
       "      <th>0</th>\n",
       "      <td>2021-09-29</td>\n",
       "      <td>robertsbryan</td>\n",
       "      <td>Jonathan Snyder</td>\n",
       "      <td>M</td>\n",
       "      <td>24675 Susan Valley\\nNorth Dianabury, MO 02475</td>\n",
       "      <td>marcus58@hotmail.com</td>\n",
       "      <td>1978-03-11</td>\n",
       "      <td>195 Brandi Junctions\\nNew Julieberg, NE 63410</td>\n",
       "      <td>Byrd, Welch and Holt</td>\n",
       "      <td>Chief Technology Officer</td>\n",
       "      <td>49</td>\n",
       "      <td>53979</td>\n",
       "      <td>VISA 19 digit</td>\n",
       "      <td>38985874269846</td>\n",
       "      <td>994</td>\n",
       "      <td>2023-10-27 00:00:00</td>\n",
       "    </tr>\n",
       "    <tr>\n",
       "      <th>1</th>\n",
       "      <td>2019-08-17</td>\n",
       "      <td>egarcia</td>\n",
       "      <td>Susan Dominguez</td>\n",
       "      <td>F</td>\n",
       "      <td>4212 Cheryl Inlet\\nPort Davidmouth, NC 54884</td>\n",
       "      <td>alexanderkathy@hotmail.com</td>\n",
       "      <td>1970-11-29</td>\n",
       "      <td>58272 Brown Isle Apt. 698\\nPort Michael, HI 04693</td>\n",
       "      <td>Hurst PLC</td>\n",
       "      <td>Data scientist</td>\n",
       "      <td>43</td>\n",
       "      <td>81510</td>\n",
       "      <td>Discover</td>\n",
       "      <td>6525743622515979</td>\n",
       "      <td>163</td>\n",
       "      <td>2023-07-30 00:00:00</td>\n",
       "    </tr>\n",
       "    <tr>\n",
       "      <th>2</th>\n",
       "      <td>2019-11-01</td>\n",
       "      <td>turnermegan</td>\n",
       "      <td>Corey Hebert</td>\n",
       "      <td>M</td>\n",
       "      <td>07388 Coleman Prairie\\nLake Amy, IA 78695</td>\n",
       "      <td>vwood@gmail.com</td>\n",
       "      <td>2009-04-23</td>\n",
       "      <td>36848 Jones Lane Suite 282\\nMarquezbury, ID 26822</td>\n",
       "      <td>Mora, Caldwell and Guerrero</td>\n",
       "      <td>Chief Operating Officer</td>\n",
       "      <td>47</td>\n",
       "      <td>205345</td>\n",
       "      <td>VISA 16 digit</td>\n",
       "      <td>4010729915028682247</td>\n",
       "      <td>634</td>\n",
       "      <td>2023-04-26 00:00:00</td>\n",
       "    </tr>\n",
       "  </tbody>\n",
       "</table>\n",
       "</div>"
      ],
      "text/plain": [
       "  date_registered      username             name gender  \\\n",
       "0      2021-09-29  robertsbryan  Jonathan Snyder      M   \n",
       "1      2019-08-17       egarcia  Susan Dominguez      F   \n",
       "2      2019-11-01   turnermegan     Corey Hebert      M   \n",
       "\n",
       "                                         address                       email  \\\n",
       "0  24675 Susan Valley\\nNorth Dianabury, MO 02475        marcus58@hotmail.com   \n",
       "1   4212 Cheryl Inlet\\nPort Davidmouth, NC 54884  alexanderkathy@hotmail.com   \n",
       "2      07388 Coleman Prairie\\nLake Amy, IA 78695             vwood@gmail.com   \n",
       "\n",
       "   birthdate                                          residence  \\\n",
       "0 1978-03-11      195 Brandi Junctions\\nNew Julieberg, NE 63410   \n",
       "1 1970-11-29  58272 Brown Isle Apt. 698\\nPort Michael, HI 04693   \n",
       "2 2009-04-23  36848 Jones Lane Suite 282\\nMarquezbury, ID 26822   \n",
       "\n",
       "                      employer                       job  age  salary  \\\n",
       "0         Byrd, Welch and Holt  Chief Technology Officer   49   53979   \n",
       "1                    Hurst PLC            Data scientist   43   81510   \n",
       "2  Mora, Caldwell and Guerrero   Chief Operating Officer   47  205345   \n",
       "\n",
       "  credit_card_provider   credit_card_number  credit_card_security_code  \\\n",
       "0        VISA 19 digit       38985874269846                        994   \n",
       "1             Discover     6525743622515979                        163   \n",
       "2        VISA 16 digit  4010729915028682247                        634   \n",
       "\n",
       "    credit_card_expire  \n",
       "0  2023-10-27 00:00:00  \n",
       "1  2023-07-30 00:00:00  \n",
       "2  2023-04-26 00:00:00  "
      ]
     },
     "execution_count": 44,
     "metadata": {},
     "output_type": "execute_result"
    }
   ],
   "source": [
    "# Remove columns that are irrelevant to the anonymisation process\n",
    "df.drop(columns=['Unnamed: 0', 'customer_id', 'current_location'], inplace=True)\n",
    "df.head(3)"
   ]
  },
  {
   "cell_type": "markdown",
   "id": "3b73b958-bf8a-4dd4-9046-87ff0d7ff1b2",
   "metadata": {},
   "source": [
    "## Step 2: Masking 'username' column"
   ]
  },
  {
   "cell_type": "code",
   "execution_count": 45,
   "id": "9ba52911-9dae-4a9a-a393-779f205d4795",
   "metadata": {},
   "outputs": [
    {
     "name": "stdout",
     "output_type": "stream",
     "text": [
      "       username username_mask\n",
      "0  robertsbryan  r**********n\n",
      "1       egarcia       e*****a\n",
      "2   turnermegan   t*********n\n"
     ]
    }
   ],
   "source": [
    "# Data Masking for 'username' column\n",
    "def mask_name(name):\n",
    "    if len(name) <= 2:\n",
    "        return '*' * len(name)\n",
    "    return name[0] + '*' * (len(name) - 2) + name[-1]\n",
    "\n",
    "df['username_mask'] = df['username'].apply(mask_name)\n",
    "\n",
    "# Preview the result\n",
    "print(df[['username', 'username_mask']].head(3))"
   ]
  },
  {
   "cell_type": "markdown",
   "id": "6acf840e-c84d-47a3-bfcb-d47699e261f2",
   "metadata": {},
   "source": [
    "## Step 3: Replace with fake 'name' column"
   ]
  },
  {
   "cell_type": "code",
   "execution_count": 46,
   "id": "96238a09-feed-490f-a9d7-529d0131680f",
   "metadata": {},
   "outputs": [
    {
     "name": "stdout",
     "output_type": "stream",
     "text": [
      "              name        name_fake\n",
      "0  Jonathan Snyder     Allison Hill\n",
      "1  Susan Dominguez      Noah Rhodes\n",
      "2     Corey Hebert  Angie Henderson\n"
     ]
    }
   ],
   "source": [
    "# Replace original 'name' column with fake 'name' column\n",
    "from faker import Faker\n",
    "\n",
    "# Initialize Faker\n",
    "fake = Faker()\n",
    "\n",
    "# Set a seed for reproducibility\n",
    "Faker.seed(42)\n",
    "\n",
    "# Create a new column with fake names\n",
    "df['name_fake'] = [fake.name() for _ in range(len(df))]\n",
    "\n",
    "# Preview the result\n",
    "print(df[['name', 'name_fake']].head(3))"
   ]
  },
  {
   "cell_type": "markdown",
   "id": "495de742-fdc1-4b2e-a250-9f21abbd77a4",
   "metadata": {},
   "source": [
    "## Step 4: Masking 'email' column "
   ]
  },
  {
   "cell_type": "code",
   "execution_count": 47,
   "id": "5bc0ef06-d858-4956-bb8d-91c41bea5d4c",
   "metadata": {},
   "outputs": [
    {
     "name": "stdout",
     "output_type": "stream",
     "text": [
      "                        email                masked_email\n",
      "0        marcus58@hotmail.com        m******************m\n",
      "1  alexanderkathy@hotmail.com  a************************m\n",
      "2             vwood@gmail.com             v*************m\n"
     ]
    }
   ],
   "source": [
    "# Data Masking for 'email' column\n",
    "def mask_email(email):\n",
    "    name, domain = email.split('@')\n",
    "    masked = name[0] + '*' * (len(name) - 2) + name[-1]\n",
    "    return masked + '@' + domain\n",
    "\n",
    "df['masked_email'] = df['email'].apply(mask_name)\n",
    "\n",
    "# Preview the result\n",
    "print(df[['email', 'masked_email']].head(3))"
   ]
  },
  {
   "cell_type": "markdown",
   "id": "283bddf4-98d0-4af9-8f69-7edcc3ebbe11",
   "metadata": {},
   "source": [
    "## Step 5: Adding noise to 'date registered' & 'birthdate' columns"
   ]
  },
  {
   "cell_type": "code",
   "execution_count": 48,
   "id": "2674deb7-a746-4d2a-8002-90288b7fa386",
   "metadata": {},
   "outputs": [
    {
     "name": "stdout",
     "output_type": "stream",
     "text": [
      "  date_registered date_registered_noise  birthdate      birthdate_noise\n",
      "0      2021-09-29   2021-10-06 00:00:00 1978-03-11  1978-03-06 00:00:00\n",
      "1      2019-08-17   2019-03-13 00:00:00 1970-11-29  1971-01-01 00:00:00\n",
      "2      2019-11-01   2020-03-24 00:00:00 2009-04-23  2009-05-13 00:00:00\n"
     ]
    }
   ],
   "source": [
    "from datetime import timedelta\n",
    "import random\n",
    "\n",
    "# Convert date columns to datetime format\n",
    "df['date_registered'] = pd.to_datetime(df['date_registered'], dayfirst=True, errors='coerce')\n",
    "df['birthdate'] = pd.to_datetime(df['birthdate'], dayfirst=True, errors='coerce')\n",
    "\n",
    "# Function to add random noise to a date (± up to 180 days)\n",
    "def add_noise_to_date(date, max_days=180):\n",
    "    if pd.isna(date):\n",
    "        return np.nan\n",
    "    noise = timedelta(days=random.randint(-max_days, max_days))\n",
    "    return date + noise\n",
    "\n",
    "# Apply the noise function to both columns\n",
    "df['date_registered_noise'] = df['date_registered'].apply(lambda x: add_noise_to_date(x))\n",
    "df['birthdate_noise'] = df['birthdate'].apply(lambda x: add_noise_to_date(x, max_days=120))  # less noise for birthdate\n",
    "\n",
    "# Format dates to dd/mm/yyyy (or remove leading zeros like your example)\n",
    "df['date_registered_noise'] = df['date_registered_noise'] .dt.strftime('%-d/%-m/%Y')\n",
    "df['birthdate_noise'] = df['birthdate_noise'].dt.strftime('%-d/%-m/%Y')\n",
    "\n",
    "# Preview the updated data\n",
    "print(df[['date_registered', 'date_registered_noise','birthdate', 'birthdate_noise']].head(3))"
   ]
  },
  {
   "cell_type": "markdown",
   "id": "79638c7d-1bbf-4dd3-a798-990483995368",
   "metadata": {},
   "source": [
    "## Step 6: Grouping 'age' & 'salary' columns"
   ]
  },
  {
   "cell_type": "code",
   "execution_count": 49,
   "id": "eda0f895-bc98-4843-998d-12b10205ab77",
   "metadata": {},
   "outputs": [
    {
     "name": "stdout",
     "output_type": "stream",
     "text": [
      "   age   age_bin  salary        salary_bin\n",
      "0   49  (40, 50]   53979    (50000, 80000]\n",
      "1   43  (40, 50]   81510   (80000, 110000]\n",
      "2   47  (40, 50]  205345  (200000, 230000]\n"
     ]
    }
   ],
   "source": [
    "# Discretization/Bucketing for age and salary columns (grouping them)\n",
    "# Define bins\n",
    "bins1 = [15, 20, 30, 40, 50, 60, 65]\n",
    "\n",
    "# Apply binning using pd.cut\n",
    "df['age_bin'] = pd.cut(df['age'], bins1)\n",
    "\n",
    "# Define bins\n",
    "bins2 = [20000, 50000, 80000, 110000, 140000, 170000, 200000, 230000, 250000]\n",
    "\n",
    "# Apply binning using pd.cut\n",
    "df['salary_bin'] = pd.cut(df['salary'], bins2)\n",
    "\n",
    "# Preview the updated data\n",
    "print(df[['age', 'age_bin','salary', 'salary_bin']].head(3))"
   ]
  },
  {
   "cell_type": "markdown",
   "id": "37d7cd4a-78d7-4e78-b22e-9f09382330f9",
   "metadata": {},
   "source": [
    "## Step 7: Hashing 'credit card provider' & 'credit card expire' columns"
   ]
  },
  {
   "cell_type": "code",
   "execution_count": 50,
   "id": "8f0966da-def5-48ab-bfb4-6c13f83fb151",
   "metadata": {},
   "outputs": [
    {
     "name": "stdout",
     "output_type": "stream",
     "text": [
      "  credit_card_provider_hash credit_card_provider credit_card_expire_hash  \\\n",
      "0                ae568399e6        VISA 19 digit              ab867e0e1a   \n",
      "1                d4a33d5b78             Discover              9366ba266b   \n",
      "2                7e56c08964        VISA 16 digit              fb98978031   \n",
      "\n",
      "    credit_card_expire  \n",
      "0  2023-10-27 00:00:00  \n",
      "1  2023-07-30 00:00:00  \n",
      "2  2023-04-26 00:00:00  \n"
     ]
    }
   ],
   "source": [
    "# Tokenising/Hashing for 'credit_card_provider' and 'credit_card_expire' columns\n",
    "import hashlib\n",
    "\n",
    "# Define hashing function (to keep token length short)\n",
    "def hash_token(value):\n",
    "    return hashlib.sha256(value.encode()).hexdigest()[:10]  # first 10 characters\n",
    "\n",
    "# Apply hashing to each column\n",
    "df['credit_card_provider_hash'] = df['credit_card_provider'].apply(lambda x: hash_token(str(x)))\n",
    "df['credit_card_expire_hash'] = df['credit_card_expire'].apply(lambda x: hash_token(str(x)))\n",
    "\n",
    "# Preview the updated data\n",
    "print(df[['credit_card_provider_hash', 'credit_card_provider','credit_card_expire_hash', 'credit_card_expire']].head(3))"
   ]
  },
  {
   "cell_type": "markdown",
   "id": "e662b54a-4c8f-419b-affc-aac684960a87",
   "metadata": {},
   "source": [
    "## Step 8: Masking 'credit card number' & 'credit card security code' columns"
   ]
  },
  {
   "cell_type": "code",
   "execution_count": 51,
   "id": "bd647df8-4c63-46df-95e1-b2e13f495fa9",
   "metadata": {},
   "outputs": [
    {
     "name": "stdout",
     "output_type": "stream",
     "text": [
      "   credit_card_number_mask   credit_card_number  \\\n",
      "0             9.433379e+17       38985874269846   \n",
      "1             1.512243e+18     6525743622515979   \n",
      "2             4.248557e+17  4010729915028682247   \n",
      "\n",
      "   credit_card_security_code_mask  credit_card_security_code  \n",
      "0                      -25.532522                        994  \n",
      "1                     3428.818684                        163  \n",
      "2                     4077.767953                        634  \n"
     ]
    }
   ],
   "source": [
    "# Randomize credit card numbers into float-like/scientific notation\n",
    "def mask_credit_card_number(x):\n",
    "    return np.random.uniform(-1e18, 5e18)\n",
    "\n",
    "# Randomize CVV into float-like values\n",
    "def mask_credit_card_cvv(x):\n",
    "    return np.random.uniform(-1000, 8000)\n",
    "\n",
    "# Apply to each column\n",
    "df['credit_card_number_mask'] = df['credit_card_number'].apply(mask_credit_card_number)\n",
    "df['credit_card_security_code_mask'] = df['credit_card_security_code'].apply(mask_credit_card_cvv)\n",
    "\n",
    "# Preview the updated data\n",
    "print(df[['credit_card_number_mask', 'credit_card_number','credit_card_security_code_mask', 'credit_card_security_code']].head(3))"
   ]
  },
  {
   "cell_type": "markdown",
   "id": "54db6c5f-9f78-4bfd-8ba1-029f0c2fabc0",
   "metadata": {},
   "source": [
    "## Step 9: Hashing 'employer' & 'job' columns"
   ]
  },
  {
   "cell_type": "code",
   "execution_count": 52,
   "id": "8e9fd0da-c2b6-428b-960d-93268eb8c7c2",
   "metadata": {},
   "outputs": [
    {
     "name": "stdout",
     "output_type": "stream",
     "text": [
      "  employer_masked                     employer  job_masked  \\\n",
      "0      a2e5631b9e         Byrd, Welch and Holt  847953c7c1   \n",
      "1      a8a4a9f466                    Hurst PLC  5124dd1227   \n",
      "2      ce5b9ed5f6  Mora, Caldwell and Guerrero  8d4277a3e9   \n",
      "\n",
      "                        job  \n",
      "0  Chief Technology Officer  \n",
      "1            Data scientist  \n",
      "2   Chief Operating Officer  \n"
     ]
    }
   ],
   "source": [
    "#Tokenization/Hashing for employer and job columns\n",
    "import hashlib\n",
    "\n",
    "# Hash function\n",
    "def hash_text(text):\n",
    "    return hashlib.sha256(text.encode()).hexdigest()[:10]  # Shorten if needed\n",
    "\n",
    "# Apply hashing\n",
    "df['employer_masked'] = df['employer'].apply(hash_text)\n",
    "df['job_masked'] = df['job'].apply(hash_text)\n",
    "\n",
    "# Preview the updated data\n",
    "print(df[['employer_masked', 'employer','job_masked', 'job']].head(3))"
   ]
  },
  {
   "cell_type": "markdown",
   "id": "17f0cab1-0d30-41a3-9855-d260583c64c8",
   "metadata": {},
   "source": [
    "## Step 10: Replacing with fake 'residence' & 'address' columns"
   ]
  },
  {
   "cell_type": "code",
   "execution_count": 53,
   "id": "f7882eb8-a6e9-42d4-8338-d1c843773917",
   "metadata": {},
   "outputs": [
    {
     "name": "stdout",
     "output_type": "stream",
     "text": [
      "                                      residence_fake  \\\n",
      "0          433 Jill Springs New Roberttown, CO 29158   \n",
      "1      386 Shane Harbors Port Lindachester, MA 36922   \n",
      "2  16155 Roman Stream Suite 816 New Kellystad, OK...   \n",
      "\n",
      "                                           residence  \\\n",
      "0      195 Brandi Junctions\\nNew Julieberg, NE 63410   \n",
      "1  58272 Brown Isle Apt. 698\\nPort Michael, HI 04693   \n",
      "2  36848 Jones Lane Suite 282\\nMarquezbury, ID 26822   \n",
      "\n",
      "                                    address_fake  \\\n",
      "0  725 Mark Land Suite 139 West Taylor, SC 02491   \n",
      "1        3580 Mark Summit Lawrencefurt, AS 83145   \n",
      "2    19120 Daniel Run Apt. 944 Leeside, WI 99635   \n",
      "\n",
      "                                         address  \n",
      "0  24675 Susan Valley\\nNorth Dianabury, MO 02475  \n",
      "1   4212 Cheryl Inlet\\nPort Davidmouth, NC 54884  \n",
      "2      07388 Coleman Prairie\\nLake Amy, IA 78695  \n"
     ]
    }
   ],
   "source": [
    "from faker import Faker\n",
    "\n",
    "# Initialize Faker\n",
    "fake = Faker()\n",
    "\n",
    "# Optional: Set a seed for reproducibility\n",
    "Faker.seed(42)\n",
    "\n",
    "# Replace 'residence' column with fake addresses\n",
    "df['residence_fake'] = [fake.address().replace(\"\\n\", \" \") for _ in range(len(df))]\n",
    "\n",
    "# Replace 'address' column with fake addresses\n",
    "df['address_fake'] = [fake.address().replace(\"\\n\", \" \") for _ in range(len(df))]\n",
    "\n",
    "# Preview the updated data\n",
    "print(df[['residence_fake', 'residence', 'address_fake', 'address']].head(3))"
   ]
  },
  {
   "cell_type": "markdown",
   "id": "d0211053-0fc6-4741-8c15-1758782d60e8",
   "metadata": {},
   "source": [
    "## Dropping/Removing original columns that not undergone data anonymisation"
   ]
  },
  {
   "cell_type": "code",
   "execution_count": 55,
   "id": "a8365662-6bb4-4194-a51f-1a5e9aaf32cc",
   "metadata": {},
   "outputs": [
    {
     "data": {
      "text/html": [
       "<div>\n",
       "<style scoped>\n",
       "    .dataframe tbody tr th:only-of-type {\n",
       "        vertical-align: middle;\n",
       "    }\n",
       "\n",
       "    .dataframe tbody tr th {\n",
       "        vertical-align: top;\n",
       "    }\n",
       "\n",
       "    .dataframe thead th {\n",
       "        text-align: right;\n",
       "    }\n",
       "</style>\n",
       "<table border=\"1\" class=\"dataframe\">\n",
       "  <thead>\n",
       "    <tr style=\"text-align: right;\">\n",
       "      <th></th>\n",
       "      <th>gender</th>\n",
       "      <th>username_mask</th>\n",
       "      <th>name_fake</th>\n",
       "      <th>masked_email</th>\n",
       "      <th>date_registered_noise</th>\n",
       "      <th>birthdate_noise</th>\n",
       "      <th>age_bin</th>\n",
       "      <th>salary_bin</th>\n",
       "      <th>credit_card_provider_hash</th>\n",
       "      <th>credit_card_expire_hash</th>\n",
       "      <th>credit_card_number_mask</th>\n",
       "      <th>credit_card_security_code_mask</th>\n",
       "      <th>employer_masked</th>\n",
       "      <th>job_masked</th>\n",
       "      <th>residence_fake</th>\n",
       "      <th>address_fake</th>\n",
       "    </tr>\n",
       "  </thead>\n",
       "  <tbody>\n",
       "    <tr>\n",
       "      <th>0</th>\n",
       "      <td>M</td>\n",
       "      <td>r**********n</td>\n",
       "      <td>Allison Hill</td>\n",
       "      <td>m******************m</td>\n",
       "      <td>2021-10-06 00:00:00</td>\n",
       "      <td>1978-03-06 00:00:00</td>\n",
       "      <td>(40, 50]</td>\n",
       "      <td>(50000, 80000]</td>\n",
       "      <td>ae568399e6</td>\n",
       "      <td>ab867e0e1a</td>\n",
       "      <td>9.433379e+17</td>\n",
       "      <td>-25.532522</td>\n",
       "      <td>a2e5631b9e</td>\n",
       "      <td>847953c7c1</td>\n",
       "      <td>433 Jill Springs New Roberttown, CO 29158</td>\n",
       "      <td>725 Mark Land Suite 139 West Taylor, SC 02491</td>\n",
       "    </tr>\n",
       "    <tr>\n",
       "      <th>1</th>\n",
       "      <td>F</td>\n",
       "      <td>e*****a</td>\n",
       "      <td>Noah Rhodes</td>\n",
       "      <td>a************************m</td>\n",
       "      <td>2019-03-13 00:00:00</td>\n",
       "      <td>1971-01-01 00:00:00</td>\n",
       "      <td>(40, 50]</td>\n",
       "      <td>(80000, 110000]</td>\n",
       "      <td>d4a33d5b78</td>\n",
       "      <td>9366ba266b</td>\n",
       "      <td>1.512243e+18</td>\n",
       "      <td>3428.818684</td>\n",
       "      <td>a8a4a9f466</td>\n",
       "      <td>5124dd1227</td>\n",
       "      <td>386 Shane Harbors Port Lindachester, MA 36922</td>\n",
       "      <td>3580 Mark Summit Lawrencefurt, AS 83145</td>\n",
       "    </tr>\n",
       "    <tr>\n",
       "      <th>2</th>\n",
       "      <td>M</td>\n",
       "      <td>t*********n</td>\n",
       "      <td>Angie Henderson</td>\n",
       "      <td>v*************m</td>\n",
       "      <td>2020-03-24 00:00:00</td>\n",
       "      <td>2009-05-13 00:00:00</td>\n",
       "      <td>(40, 50]</td>\n",
       "      <td>(200000, 230000]</td>\n",
       "      <td>7e56c08964</td>\n",
       "      <td>fb98978031</td>\n",
       "      <td>4.248557e+17</td>\n",
       "      <td>4077.767953</td>\n",
       "      <td>ce5b9ed5f6</td>\n",
       "      <td>8d4277a3e9</td>\n",
       "      <td>16155 Roman Stream Suite 816 New Kellystad, OK...</td>\n",
       "      <td>19120 Daniel Run Apt. 944 Leeside, WI 99635</td>\n",
       "    </tr>\n",
       "  </tbody>\n",
       "</table>\n",
       "</div>"
      ],
      "text/plain": [
       "  gender username_mask        name_fake                masked_email  \\\n",
       "0      M  r**********n     Allison Hill        m******************m   \n",
       "1      F       e*****a      Noah Rhodes  a************************m   \n",
       "2      M   t*********n  Angie Henderson             v*************m   \n",
       "\n",
       "  date_registered_noise      birthdate_noise   age_bin        salary_bin  \\\n",
       "0   2021-10-06 00:00:00  1978-03-06 00:00:00  (40, 50]    (50000, 80000]   \n",
       "1   2019-03-13 00:00:00  1971-01-01 00:00:00  (40, 50]   (80000, 110000]   \n",
       "2   2020-03-24 00:00:00  2009-05-13 00:00:00  (40, 50]  (200000, 230000]   \n",
       "\n",
       "  credit_card_provider_hash credit_card_expire_hash  credit_card_number_mask  \\\n",
       "0                ae568399e6              ab867e0e1a             9.433379e+17   \n",
       "1                d4a33d5b78              9366ba266b             1.512243e+18   \n",
       "2                7e56c08964              fb98978031             4.248557e+17   \n",
       "\n",
       "   credit_card_security_code_mask employer_masked  job_masked  \\\n",
       "0                      -25.532522      a2e5631b9e  847953c7c1   \n",
       "1                     3428.818684      a8a4a9f466  5124dd1227   \n",
       "2                     4077.767953      ce5b9ed5f6  8d4277a3e9   \n",
       "\n",
       "                                      residence_fake  \\\n",
       "0          433 Jill Springs New Roberttown, CO 29158   \n",
       "1      386 Shane Harbors Port Lindachester, MA 36922   \n",
       "2  16155 Roman Stream Suite 816 New Kellystad, OK...   \n",
       "\n",
       "                                    address_fake  \n",
       "0  725 Mark Land Suite 139 West Taylor, SC 02491  \n",
       "1        3580 Mark Summit Lawrencefurt, AS 83145  \n",
       "2    19120 Daniel Run Apt. 944 Leeside, WI 99635  "
      ]
     },
     "execution_count": 55,
     "metadata": {},
     "output_type": "execute_result"
    }
   ],
   "source": [
    "# Remove original columns that are before data anonymisation\n",
    "df.drop(columns=['username', 'name', 'email', 'date_registered', 'birthdate', 'age', 'salary', 'credit_card_provider',\n",
    "                 'credit_card_expire', 'credit_card_number', 'credit_card_security_code', 'employer', 'job', 'residence', 'address'], inplace=True)\n",
    "df.head(3)"
   ]
  },
  {
   "cell_type": "markdown",
   "id": "89942e11-fb87-49dc-8841-65f90e3be720",
   "metadata": {},
   "source": [
    "## Save cleaned dataset into new Excel"
   ]
  },
  {
   "cell_type": "code",
   "execution_count": 56,
   "id": "760f06c5-6053-43ef-8a3e-6ec108d433f2",
   "metadata": {},
   "outputs": [],
   "source": [
    "# Assume df is your cleaned DataFrame\n",
    "df.to_excel(\"mobile_customers_cleaned.xlsx\", index=False)"
   ]
  }
 ],
 "metadata": {
  "kernelspec": {
   "display_name": "Python 3 (ipykernel)",
   "language": "python",
   "name": "python3"
  },
  "language_info": {
   "codemirror_mode": {
    "name": "ipython",
    "version": 3
   },
   "file_extension": ".py",
   "mimetype": "text/x-python",
   "name": "python",
   "nbconvert_exporter": "python",
   "pygments_lexer": "ipython3",
   "version": "3.12.6"
  }
 },
 "nbformat": 4,
 "nbformat_minor": 5
}
